{
 "cells": [
  {
   "cell_type": "code",
   "execution_count": 11,
   "metadata": {},
   "outputs": [],
   "source": [
    "from scipy.optimize import minimize\n",
    "import numpy as np\n",
    "from itertools import combinations"
   ]
  },
  {
   "cell_type": "code",
   "execution_count": 123,
   "metadata": {},
   "outputs": [],
   "source": [
    "# Matriz de correlação\n",
    "corr = np.array([[1, 0.18, .01, .76, -.06], [.18, 1, -.01, .08, -.05], [.01, -.01, 1, -.09, -.3], \n",
    "                 [.76, .08, -.09, 1, 0], [-.06, -.05, -.3, 0, 1]])\n",
    "\n",
    "#retornos dos ativos\n",
    "returns = np.array([.071, .059, .1959, .2972, .4185])\n",
    "\n",
    "#riscos dos ativos\n",
    "risks = np.array([.0275, .0025, .1255, .1985, .1456])\n",
    "\n",
    "# distribuição da carteira inicial\n",
    "x = [0, .66, 0, .33, 0]\n",
    "\n",
    "# limite minimo da carteira de ativos de baixo risco\n",
    "bb=.4\n",
    "\n",
    "# index dos ativos de baixo risco\n",
    "xb = [1]\n",
    "\n",
    "# limite máximo da composição de cada ativo na carteira\n",
    "b = (0, .5)\n",
    "bounds = [b]*5"
   ]
  },
  {
   "cell_type": "code",
   "execution_count": 124,
   "metadata": {},
   "outputs": [],
   "source": [
    "def objective(x):\n",
    "    '''\n",
    "    x = composição ótima de cada ativo na carteira\n",
    "    r = retorno de cada ativo\n",
    "    s =  risco da carteira\n",
    "    '''\n",
    "    total_risks =  total_risk(risks, corr, x)\n",
    "    return total_risks/np.sum(x*returns)\n",
    "\n",
    "def corr_term(risks, corr, x):\n",
    "    '''\n",
    "    corr = matriz de correlação entre os ativos [n x n]\n",
    "    '''\n",
    "    comb = combinations(np.arange(len(corr)), 2)\n",
    "    total_term = 0\n",
    "    for combination in list(comb):\n",
    "        corr_ij = corr[combination[0], combination[1]]\n",
    "        xi = x[combination[0]]\n",
    "        xj = x[combination[1]]\n",
    "        si = risks[combination[0]]\n",
    "        sj = risks[combination[1]]\n",
    "        i_term = 2*xi*xj*corr_ij*si*sj\n",
    "        total_term+=i_term\n",
    "    return total_term\n",
    "\n",
    "def total_risk(risks, corr, x):\n",
    "    singular_risks = np.sum((risks*x)**2)\n",
    "    total_corr_term = corr_term(risks, corr, x)\n",
    "    return np.sqrt(singular_risks+total_corr_term)\n",
    "\n",
    "def constraint1(x):\n",
    "    '''\n",
    "    total da carteira = 100%\n",
    "    limite de eq\n",
    "    '''\n",
    "    return np.sum(x)-1\n",
    "\n",
    "def constraint2(x, xb=xb, bb=bb):\n",
    "    '''\n",
    "    limita a composição da carteira de alto risco\n",
    "    xa = ativos de baixo risco\n",
    "    ba = limite da composição da carteira de ativos de baixo risco\n",
    "    limite de maior ou igual\n",
    "    '''\n",
    "    total = 0\n",
    "    for i in xb:\n",
    "        total+=x[i]\n",
    "    return total-bb\n"
   ]
  },
  {
   "cell_type": "code",
   "execution_count": 125,
   "metadata": {},
   "outputs": [],
   "source": [
    "\n",
    "con1 = {'type':'eq', 'fun':constraint1}\n",
    "con2 = {'type':'ineq', 'fun':constraint2}\n",
    "cons = [con1, con2]"
   ]
  },
  {
   "cell_type": "code",
   "execution_count": 126,
   "metadata": {},
   "outputs": [
    {
     "data": {
      "text/plain": [
       "     fun: 0.15028233950284095\n",
       "     jac: array([ 0.08788499, -0.08793337,  0.08901175,  0.57998791,  0.08728532])\n",
       " message: 'Optimization terminated successfully.'\n",
       "    nfev: 101\n",
       "     nit: 14\n",
       "    njev: 14\n",
       "  status: 0\n",
       " success: True\n",
       "       x: array([0.37435074, 0.5       , 0.05766058, 0.        , 0.06798868])"
      ]
     },
     "execution_count": 126,
     "metadata": {},
     "output_type": "execute_result"
    }
   ],
   "source": [
    "minimize(objective, x, bounds = bounds, constraints=cons)"
   ]
  },
  {
   "cell_type": "code",
   "execution_count": null,
   "metadata": {},
   "outputs": [],
   "source": []
  }
 ],
 "metadata": {
  "kernelspec": {
   "display_name": "Python 3",
   "language": "python",
   "name": "python3"
  },
  "language_info": {
   "codemirror_mode": {
    "name": "ipython",
    "version": 3
   },
   "file_extension": ".py",
   "mimetype": "text/x-python",
   "name": "python",
   "nbconvert_exporter": "python",
   "pygments_lexer": "ipython3",
   "version": "3.6.8"
  }
 },
 "nbformat": 4,
 "nbformat_minor": 2
}
